{
 "cells": [
  {
   "cell_type": "markdown",
   "metadata": {},
   "source": [
    "# CANARIE 2017 -- Analysis of the survey\n",
    "\n",
    "This notebook is the first draft to analyse the results from [CANARIE]()"
   ]
  },
  {
   "cell_type": "markdown",
   "metadata": {},
   "source": [
    "## Preparation and filtering of the dataset"
   ]
  },
  {
   "cell_type": "code",
   "execution_count": 1,
   "metadata": {
    "collapsed": true
   },
   "outputs": [],
   "source": [
    "# Load libraries\n",
    "import pandas as pd\n",
    "import matplotlib.pyplot as plt\n",
    "%matplotlib inline\n",
    "import csv\n"
   ]
  },
  {
   "cell_type": "code",
   "execution_count": 2,
   "metadata": {
    "collapsed": false
   },
   "outputs": [
    {
     "data": {
      "text/plain": [
       "114"
      ]
     },
     "execution_count": 2,
     "metadata": {},
     "output_type": "execute_result"
    }
   ],
   "source": [
    "# Load dataset\n",
    "df = pd.read_csv('./dataset/2017 Cdn Research Software Developer Survey - Public data.csv')\n",
    "# Number of row == number of participants\n",
    "len(df.index)"
   ]
  },
  {
   "cell_type": "markdown",
   "metadata": {},
   "source": [
    "### Date submitted\n",
    "The variable 'Date submitted' is set up when the participant finish the survey. If the row on this column is empty, it means the participant did not finish the survey. These participants are removed, even if they have submitted partial answers."
   ]
  },
  {
   "cell_type": "code",
   "execution_count": 3,
   "metadata": {
    "collapsed": false
   },
   "outputs": [
    {
     "data": {
      "text/plain": [
       "102"
      ]
     },
     "execution_count": 3,
     "metadata": {},
     "output_type": "execute_result"
    }
   ],
   "source": [
    "#df['Date submitted'].unique\n",
    "df = df[df['Date submitted'].notnull()]\n",
    "# Getting the number of row from the reduced dataframe\n",
    "len(df.index)\n"
   ]
  },
  {
   "cell_type": "markdown",
   "metadata": {},
   "source": [
    "### Countries\n",
    "A question asked the participants in which country they were currently working and specify when it was not Canada.\n"
   ]
  },
  {
   "cell_type": "code",
   "execution_count": 4,
   "metadata": {
    "collapsed": false
   },
   "outputs": [
    {
     "data": {
      "text/html": [
       "<div>\n",
       "<table border=\"1\" class=\"dataframe\">\n",
       "  <thead>\n",
       "    <tr style=\"text-align: right;\">\n",
       "      <th>col_0</th>\n",
       "      <th>Countries</th>\n",
       "    </tr>\n",
       "    <tr>\n",
       "      <th>In which country do you work?</th>\n",
       "      <th></th>\n",
       "    </tr>\n",
       "  </thead>\n",
       "  <tbody>\n",
       "    <tr>\n",
       "      <th>Canada</th>\n",
       "      <td>99</td>\n",
       "    </tr>\n",
       "    <tr>\n",
       "      <th>Other</th>\n",
       "      <td>3</td>\n",
       "    </tr>\n",
       "  </tbody>\n",
       "</table>\n",
       "</div>"
      ],
      "text/plain": [
       "col_0                          Countries\n",
       "In which country do you work?           \n",
       "Canada                                99\n",
       "Other                                  3"
      ]
     },
     "execution_count": 4,
     "metadata": {},
     "output_type": "execute_result"
    }
   ],
   "source": [
    "pd.crosstab(df['In which country do you work?'], columns='Countries')"
   ]
  },
  {
   "cell_type": "markdown",
   "metadata": {},
   "source": [
    "There is only 4 others. Which are only one from Japan, 2 from USA and one from UK.  "
   ]
  },
  {
   "cell_type": "code",
   "execution_count": 5,
   "metadata": {
    "collapsed": false
   },
   "outputs": [
    {
     "data": {
      "text/html": [
       "<div>\n",
       "<table border=\"1\" class=\"dataframe\">\n",
       "  <thead>\n",
       "    <tr style=\"text-align: right;\">\n",
       "      <th>col_0</th>\n",
       "      <th>Other countries</th>\n",
       "    </tr>\n",
       "    <tr>\n",
       "      <th>In which country do you work? [Other]</th>\n",
       "      <th></th>\n",
       "    </tr>\n",
       "  </thead>\n",
       "  <tbody>\n",
       "    <tr>\n",
       "      <th>USA</th>\n",
       "      <td>2</td>\n",
       "    </tr>\n",
       "    <tr>\n",
       "      <th>uk</th>\n",
       "      <td>1</td>\n",
       "    </tr>\n",
       "  </tbody>\n",
       "</table>\n",
       "</div>"
      ],
      "text/plain": [
       "col_0                                  Other countries\n",
       "In which country do you work? [Other]                 \n",
       "USA                                                  2\n",
       "uk                                                   1"
      ]
     },
     "execution_count": 5,
     "metadata": {},
     "output_type": "execute_result"
    }
   ],
   "source": [
    "pd.crosstab(df['In which country do you work? [Other]'], columns='Other countries')\n"
   ]
  },
  {
   "cell_type": "markdown",
   "metadata": {},
   "source": [
    "As this answer are not useful for CANARIE, because these people are not working in Canada, they are removed from the dataset."
   ]
  },
  {
   "cell_type": "code",
   "execution_count": 6,
   "metadata": {
    "collapsed": false
   },
   "outputs": [
    {
     "data": {
      "text/plain": [
       "99"
      ]
     },
     "execution_count": 6,
     "metadata": {},
     "output_type": "execute_result"
    }
   ],
   "source": [
    "df = df.loc[df['In which country do you work?'] != 'Other']\n",
    "# Getting the number of row from the reduced dataframe\n",
    "len(df.index)"
   ]
  },
  {
   "cell_type": "markdown",
   "metadata": {},
   "source": [
    "### Writing software as part of the work\n",
    "\n",
    "One question asked if the participants write software for research as part of their work."
   ]
  },
  {
   "cell_type": "code",
   "execution_count": 7,
   "metadata": {
    "collapsed": false
   },
   "outputs": [
    {
     "data": {
      "text/html": [
       "<div>\n",
       "<table border=\"1\" class=\"dataframe\">\n",
       "  <thead>\n",
       "    <tr style=\"text-align: right;\">\n",
       "      <th>col_0</th>\n",
       "      <th>Writing software</th>\n",
       "    </tr>\n",
       "    <tr>\n",
       "      <th>Do you write software for research as part of your job?</th>\n",
       "      <th></th>\n",
       "    </tr>\n",
       "  </thead>\n",
       "  <tbody>\n",
       "    <tr>\n",
       "      <th>No</th>\n",
       "      <td>9</td>\n",
       "    </tr>\n",
       "    <tr>\n",
       "      <th>Yes</th>\n",
       "      <td>90</td>\n",
       "    </tr>\n",
       "  </tbody>\n",
       "</table>\n",
       "</div>"
      ],
      "text/plain": [
       "col_0                                               Writing software\n",
       "Do you write software for research as part of y...                  \n",
       "No                                                                 9\n",
       "Yes                                                               90"
      ]
     },
     "execution_count": 7,
     "metadata": {},
     "output_type": "execute_result"
    }
   ],
   "source": [
    "pd.crosstab(df['Do you write software for research as part of your job?'], columns='Writing software')\n"
   ]
  },
  {
   "cell_type": "markdown",
   "metadata": {},
   "source": [
    "13 answered 'No'. This survey, being about researcher that write codes, they are removed from the dataset"
   ]
  },
  {
   "cell_type": "code",
   "execution_count": 8,
   "metadata": {
    "collapsed": false
   },
   "outputs": [
    {
     "data": {
      "text/plain": [
       "90"
      ]
     },
     "execution_count": 8,
     "metadata": {},
     "output_type": "execute_result"
    }
   ],
   "source": [
    "df = df.loc[df['Do you write software for research as part of your job?'] == 'Yes']\n",
    "# Getting the number of row from the reduced dataframe\n",
    "len(df.index)"
   ]
  },
  {
   "cell_type": "markdown",
   "metadata": {},
   "source": [
    "## Univariate analysis\n",
    "\n"
   ]
  },
  {
   "cell_type": "markdown",
   "metadata": {},
   "source": [
    "### Languages\n",
    "\n",
    "The survey was in French and in English. The option choose by the participant was collected. It is possible then to see the proportion of participants that answered the survey in French or in English"
   ]
  },
  {
   "cell_type": "code",
   "execution_count": 9,
   "metadata": {
    "collapsed": false
   },
   "outputs": [
    {
     "data": {
      "text/html": [
       "<div>\n",
       "<table border=\"1\" class=\"dataframe\">\n",
       "  <thead>\n",
       "    <tr style=\"text-align: right;\">\n",
       "      <th>col_0</th>\n",
       "      <th>Language</th>\n",
       "    </tr>\n",
       "    <tr>\n",
       "      <th>Start language</th>\n",
       "      <th></th>\n",
       "    </tr>\n",
       "  </thead>\n",
       "  <tbody>\n",
       "    <tr>\n",
       "      <th>en</th>\n",
       "      <td>79</td>\n",
       "    </tr>\n",
       "    <tr>\n",
       "      <th>fr</th>\n",
       "      <td>11</td>\n",
       "    </tr>\n",
       "  </tbody>\n",
       "</table>\n",
       "</div>"
      ],
      "text/plain": [
       "col_0           Language\n",
       "Start language          \n",
       "en                    79\n",
       "fr                    11"
      ]
     },
     "execution_count": 9,
     "metadata": {},
     "output_type": "execute_result"
    }
   ],
   "source": [
    "pd.crosstab(df['Start language'], columns='Language')\n"
   ]
  },
  {
   "cell_type": "code",
   "execution_count": 10,
   "metadata": {
    "collapsed": false
   },
   "outputs": [
    {
     "data": {
      "text/plain": [
       "<matplotlib.axes._subplots.AxesSubplot at 0x7f4799d2c898>"
      ]
     },
     "execution_count": 10,
     "metadata": {},
     "output_type": "execute_result"
    },
    {
     "data": {
      "image/png": "[encoded data removed]",
      "text/plain": [
       "<matplotlib.figure.Figure at 0x7f4799d884a8>"
      ]
     },
     "metadata": {},
     "output_type": "display_data"
    }
   ],
   "source": [
    "df['Start language'].value_counts().plot(kind='bar')\n"
   ]
  },
  {
   "cell_type": "markdown",
   "metadata": {},
   "source": [
    "### Education level\n",
    "The question asked the level of education"
   ]
  },
  {
   "cell_type": "code",
   "execution_count": 11,
   "metadata": {
    "collapsed": false
   },
   "outputs": [
    {
     "data": {
      "text/html": [
       "<div>\n",
       "<table border=\"1\" class=\"dataframe\">\n",
       "  <thead>\n",
       "    <tr style=\"text-align: right;\">\n",
       "      <th>col_0</th>\n",
       "      <th>Education level</th>\n",
       "    </tr>\n",
       "    <tr>\n",
       "      <th>What is the highest level of education you have attained?</th>\n",
       "      <th></th>\n",
       "    </tr>\n",
       "  </thead>\n",
       "  <tbody>\n",
       "    <tr>\n",
       "      <th>Some University</th>\n",
       "      <td>5</td>\n",
       "    </tr>\n",
       "    <tr>\n",
       "      <th>College Diploma</th>\n",
       "      <td>4</td>\n",
       "    </tr>\n",
       "    <tr>\n",
       "      <th>Bachelors Degree</th>\n",
       "      <td>16</td>\n",
       "    </tr>\n",
       "    <tr>\n",
       "      <th>Masters Degree</th>\n",
       "      <td>25</td>\n",
       "    </tr>\n",
       "    <tr>\n",
       "      <th>Doctorate</th>\n",
       "      <td>40</td>\n",
       "    </tr>\n",
       "  </tbody>\n",
       "</table>\n",
       "</div>"
      ],
      "text/plain": [
       "col_0                                               Education level\n",
       "What is the highest level of education you have...                 \n",
       "Some University                                                   5\n",
       "College Diploma                                                   4\n",
       "Bachelors Degree                                                 16\n",
       "Masters Degree                                                   25\n",
       "Doctorate                                                        40"
      ]
     },
     "execution_count": 11,
     "metadata": {},
     "output_type": "execute_result"
    }
   ],
   "source": [
    "# Recode the column as categorical variable\n",
    "df['What is the highest level of education you have attained?'] = df['What is the highest level of education you have attained?'].astype('category')\n",
    "\n",
    "# Reorder the factors to match the education level\n",
    "df['What is the highest level of education you have attained?'].cat.reorder_categories(['Some University',\n",
    "                                                                                         'College Diploma',\n",
    "                                                                                         'Bachelors Degree',\n",
    "                                                                                         'Masters Degree',\n",
    "                                                                                         'Doctorate'],\n",
    "                                                                                       inplace=True)\n",
    "pd.crosstab(df['What is the highest level of education you have attained?'], columns='Education level')"
   ]
  },
  {
   "cell_type": "code",
   "execution_count": 65,
   "metadata": {
    "collapsed": false
   },
   "outputs": [
    {
     "data": {
      "text/plain": [
       "<matplotlib.axes._subplots.AxesSubplot at 0x7fa55415c160>"
      ]
     },
     "execution_count": 65,
     "metadata": {},
     "output_type": "execute_result"
    },
    {
     "data": {
      "image/png": "[encoded data removed]",
      "text/plain": [
       "<matplotlib.figure.Figure at 0x7fa55417c2e8>"
      ]
     },
     "metadata": {},
     "output_type": "display_data"
    }
   ],
   "source": [
    "df['What is the highest level of education you have attained?'].value_counts().plot(kind='bar', sort_columns=True)\n"
   ]
  },
  {
   "cell_type": "markdown",
   "metadata": {},
   "source": [
    "### Discipline\n",
    "\n",
    "In which discipline the participants obtained their highest qualification. The answers were from the [NSERC codes](http://www.nserc-crsng.gc.ca/Help-Aide/Codes-ListeDeCodes_Eng.asp). \n",
    "However, it is the option 'Other', followed by a freetext option, which is the most chosen.\n",
    "Therefore, before plotting it, we need to clean and merge these answers with the NESRC ones. "
   ]
  },
  {
   "cell_type": "markdown",
   "metadata": {},
   "source": [
    "#### Discipline -- Other\n",
    "\n"
   ]
  },
  {
   "cell_type": "code",
   "execution_count": 93,
   "metadata": {
    "collapsed": false
   },
   "outputs": [
    {
     "data": {
      "text/html": [
       "<div>\n",
       "<table border=\"1\" class=\"dataframe\">\n",
       "  <thead>\n",
       "    <tr style=\"text-align: right;\">\n",
       "      <th>col_0</th>\n",
       "      <th>Disciplines -- Other</th>\n",
       "    </tr>\n",
       "    <tr>\n",
       "      <th>In which discipline is your highest academic qualification? [Other]</th>\n",
       "      <th></th>\n",
       "    </tr>\n",
       "  </thead>\n",
       "  <tbody>\n",
       "    <tr>\n",
       "      <th>biochemistry/bioinformatics</th>\n",
       "      <td>1</td>\n",
       "    </tr>\n",
       "    <tr>\n",
       "      <th>bioinformatics</th>\n",
       "      <td>2</td>\n",
       "    </tr>\n",
       "    <tr>\n",
       "      <th>bioinformatique</th>\n",
       "      <td>1</td>\n",
       "    </tr>\n",
       "    <tr>\n",
       "      <th>biophysics</th>\n",
       "      <td>1</td>\n",
       "    </tr>\n",
       "    <tr>\n",
       "      <th>computer</th>\n",
       "      <td>1</td>\n",
       "    </tr>\n",
       "    <tr>\n",
       "      <th>computer &amp; information science</th>\n",
       "      <td>1</td>\n",
       "    </tr>\n",
       "    <tr>\n",
       "      <th>computer engineering</th>\n",
       "      <td>2</td>\n",
       "    </tr>\n",
       "    <tr>\n",
       "      <th>computer engineering/science</th>\n",
       "      <td>1</td>\n",
       "    </tr>\n",
       "    <tr>\n",
       "      <th>computer science</th>\n",
       "      <td>2</td>\n",
       "    </tr>\n",
       "    <tr>\n",
       "      <th>dance</th>\n",
       "      <td>1</td>\n",
       "    </tr>\n",
       "    <tr>\n",
       "      <th>génie informatique</th>\n",
       "      <td>1</td>\n",
       "    </tr>\n",
       "    <tr>\n",
       "      <th>history</th>\n",
       "      <td>1</td>\n",
       "    </tr>\n",
       "    <tr>\n",
       "      <th>humanities</th>\n",
       "      <td>1</td>\n",
       "    </tr>\n",
       "    <tr>\n",
       "      <th>informatique</th>\n",
       "      <td>1</td>\n",
       "    </tr>\n",
       "    <tr>\n",
       "      <th>master in software systems</th>\n",
       "      <td>1</td>\n",
       "    </tr>\n",
       "    <tr>\n",
       "      <th>mathematics</th>\n",
       "      <td>1</td>\n",
       "    </tr>\n",
       "    <tr>\n",
       "      <th>musique</th>\n",
       "      <td>1</td>\n",
       "    </tr>\n",
       "    <tr>\n",
       "      <th>other engineering</th>\n",
       "      <td>1</td>\n",
       "    </tr>\n",
       "    <tr>\n",
       "      <th>software engineering</th>\n",
       "      <td>1</td>\n",
       "    </tr>\n",
       "    <tr>\n",
       "      <th>sport management</th>\n",
       "      <td>1</td>\n",
       "    </tr>\n",
       "    <tr>\n",
       "      <th>systems</th>\n",
       "      <td>1</td>\n",
       "    </tr>\n",
       "  </tbody>\n",
       "</table>\n",
       "</div>"
      ],
      "text/plain": [
       "col_0                                               Disciplines -- Other\n",
       "In which discipline is your highest academic qu...                      \n",
       "biochemistry/bioinformatics                                            1\n",
       "bioinformatics                                                         2\n",
       "bioinformatique                                                        1\n",
       "biophysics                                                             1\n",
       "computer                                                               1\n",
       "computer & information science                                         1\n",
       "computer engineering                                                   2\n",
       "computer engineering/science                                           1\n",
       "computer science                                                       2\n",
       "dance                                                                  1\n",
       "génie informatique                                                     1\n",
       "history                                                                1\n",
       "humanities                                                             1\n",
       "informatique                                                           1\n",
       "master in software systems                                             1\n",
       "mathematics                                                            1\n",
       "musique                                                                1\n",
       "other engineering                                                      1\n",
       "software engineering                                                   1\n",
       "sport management                                                       1\n",
       "systems                                                                1"
      ]
     },
     "execution_count": 93,
     "metadata": {},
     "output_type": "execute_result"
    }
   ],
   "source": [
    "df['In which discipline is your highest academic qualification? [Other]'] = df['In which discipline is your highest academic qualification? [Other]'].str.lower()\n",
    "pd.crosstab(df['In which discipline is your highest academic qualification? [Other]'], columns='Disciplines -- Other')\n"
   ]
  },
  {
   "cell_type": "code",
   "execution_count": 82,
   "metadata": {
    "collapsed": false
   },
   "outputs": [
    {
     "data": {
      "text/html": [
       "<div>\n",
       "<table border=\"1\" class=\"dataframe\">\n",
       "  <thead>\n",
       "    <tr style=\"text-align: right;\">\n",
       "      <th>col_0</th>\n",
       "      <th>Disciplines</th>\n",
       "    </tr>\n",
       "    <tr>\n",
       "      <th>In which discipline is your highest academic qualification?</th>\n",
       "      <th></th>\n",
       "    </tr>\n",
       "  </thead>\n",
       "  <tbody>\n",
       "    <tr>\n",
       "      <th>Agricultural engineering</th>\n",
       "      <td>1</td>\n",
       "    </tr>\n",
       "    <tr>\n",
       "      <th>Applied mathematics</th>\n",
       "      <td>5</td>\n",
       "    </tr>\n",
       "    <tr>\n",
       "      <th>Artificial intelligence</th>\n",
       "      <td>6</td>\n",
       "    </tr>\n",
       "    <tr>\n",
       "      <th>Astronomy and astrophysics</th>\n",
       "      <td>2</td>\n",
       "    </tr>\n",
       "    <tr>\n",
       "      <th>Biochemistry</th>\n",
       "      <td>2</td>\n",
       "    </tr>\n",
       "    <tr>\n",
       "      <th>Biomedical engineering</th>\n",
       "      <td>2</td>\n",
       "    </tr>\n",
       "    <tr>\n",
       "      <th>Chemical engineering</th>\n",
       "      <td>3</td>\n",
       "    </tr>\n",
       "    <tr>\n",
       "      <th>Earth science</th>\n",
       "      <td>2</td>\n",
       "    </tr>\n",
       "    <tr>\n",
       "      <th>Electrical and electronic engineering</th>\n",
       "      <td>5</td>\n",
       "    </tr>\n",
       "    <tr>\n",
       "      <th>Evolution and ecology</th>\n",
       "      <td>2</td>\n",
       "    </tr>\n",
       "    <tr>\n",
       "      <th>Fluid mechanics</th>\n",
       "      <td>1</td>\n",
       "    </tr>\n",
       "    <tr>\n",
       "      <th>Genetics</th>\n",
       "      <td>3</td>\n",
       "    </tr>\n",
       "    <tr>\n",
       "      <th>Geoghraphical information</th>\n",
       "      <td>1</td>\n",
       "    </tr>\n",
       "    <tr>\n",
       "      <th>Health Sciences</th>\n",
       "      <td>1</td>\n",
       "    </tr>\n",
       "    <tr>\n",
       "      <th>Hydrology</th>\n",
       "      <td>1</td>\n",
       "    </tr>\n",
       "    <tr>\n",
       "      <th>Industrial engineering</th>\n",
       "      <td>1</td>\n",
       "    </tr>\n",
       "    <tr>\n",
       "      <th>Information technology</th>\n",
       "      <td>19</td>\n",
       "    </tr>\n",
       "    <tr>\n",
       "      <th>Life sciences research related to human health and disease</th>\n",
       "      <td>1</td>\n",
       "    </tr>\n",
       "    <tr>\n",
       "      <th>Mechanical engineering</th>\n",
       "      <td>1</td>\n",
       "    </tr>\n",
       "    <tr>\n",
       "      <th>Microbiology</th>\n",
       "      <td>1</td>\n",
       "    </tr>\n",
       "    <tr>\n",
       "      <th>Mining and mineral processing</th>\n",
       "      <td>1</td>\n",
       "    </tr>\n",
       "    <tr>\n",
       "      <th>Molecular biology</th>\n",
       "      <td>2</td>\n",
       "    </tr>\n",
       "    <tr>\n",
       "      <th>Nuclear engineering</th>\n",
       "      <td>1</td>\n",
       "    </tr>\n",
       "    <tr>\n",
       "      <th>Oceanography</th>\n",
       "      <td>1</td>\n",
       "    </tr>\n",
       "    <tr>\n",
       "      <th>Other</th>\n",
       "      <td>24</td>\n",
       "    </tr>\n",
       "    <tr>\n",
       "      <th>Other studies in natural sciences and engineering</th>\n",
       "      <td>1</td>\n",
       "    </tr>\n",
       "    <tr>\n",
       "      <th>Physical chemistry</th>\n",
       "      <td>2</td>\n",
       "    </tr>\n",
       "    <tr>\n",
       "      <th>Physical geography</th>\n",
       "      <td>1</td>\n",
       "    </tr>\n",
       "    <tr>\n",
       "      <th>Physics</th>\n",
       "      <td>5</td>\n",
       "    </tr>\n",
       "    <tr>\n",
       "      <th>Space science</th>\n",
       "      <td>1</td>\n",
       "    </tr>\n",
       "    <tr>\n",
       "      <th>Theoretical physics and chemistry</th>\n",
       "      <td>3</td>\n",
       "    </tr>\n",
       "  </tbody>\n",
       "</table>\n",
       "</div>"
      ],
      "text/plain": [
       "col_0                                               Disciplines\n",
       "In which discipline is your highest academic qu...             \n",
       "Agricultural engineering                                      1\n",
       "Applied mathematics                                           5\n",
       "Artificial intelligence                                       6\n",
       "Astronomy and astrophysics                                    2\n",
       "Biochemistry                                                  2\n",
       "Biomedical engineering                                        2\n",
       "Chemical engineering                                          3\n",
       "Earth science                                                 2\n",
       "Electrical and electronic engineering                         5\n",
       "Evolution and ecology                                         2\n",
       "Fluid mechanics                                               1\n",
       "Genetics                                                      3\n",
       "Geoghraphical information                                     1\n",
       "Health Sciences                                               1\n",
       "Hydrology                                                     1\n",
       "Industrial engineering                                        1\n",
       "Information technology                                       19\n",
       "Life sciences research related to human health ...            1\n",
       "Mechanical engineering                                        1\n",
       "Microbiology                                                  1\n",
       "Mining and mineral processing                                 1\n",
       "Molecular biology                                             2\n",
       "Nuclear engineering                                           1\n",
       "Oceanography                                                  1\n",
       "Other                                                        24\n",
       "Other studies in natural sciences and engineering             1\n",
       "Physical chemistry                                            2\n",
       "Physical geography                                            1\n",
       "Physics                                                       5\n",
       "Space science                                                 1\n",
       "Theoretical physics and chemistry                             3"
      ]
     },
     "execution_count": 82,
     "metadata": {},
     "output_type": "execute_result"
    }
   ],
   "source": [
    "pd.crosstab(df['In which discipline is your highest academic qualification?'], columns='Disciplines')\n"
   ]
  },
  {
   "cell_type": "code",
   "execution_count": 13,
   "metadata": {
    "collapsed": false
   },
   "outputs": [
    {
     "data": {
      "text/plain": [
       "<matplotlib.axes._subplots.AxesSubplot at 0x7f4797c685f8>"
      ]
     },
     "execution_count": 13,
     "metadata": {},
     "output_type": "execute_result"
    },
    {
     "data": {
      "image/png": "[encoded data removed]",
      "text/plain": [
       "<matplotlib.figure.Figure at 0x7f4797c784e0>"
      ]
     },
     "metadata": {},
     "output_type": "display_data"
    }
   ],
   "source": [
    "df['In which discipline is your highest academic qualification?'].value_counts().plot(kind='bar', sort_columns=True)\n"
   ]
  },
  {
   "cell_type": "code",
   "execution_count": 12,
   "metadata": {
    "collapsed": false
   },
   "outputs": [
    {
     "name": "stdout",
     "output_type": "stream",
     "text": [
      "Index(['Response ID', 'Date submitted', 'Last page', 'Start language',\n",
      "       'Date started', 'Date last action', 'In which country do you work?',\n",
      "       'In which country do you work? [Other]',\n",
      "       'Do you write software for research as part of your job?',\n",
      "       'What is the highest level of education you have attained?',\n",
      "       'In which discipline is your highest academic qualification?',\n",
      "       'In which discipline is your highest academic qualification? [Other]',\n",
      "       'List any professional qualifications you hold (eg. P. Eng, PMP, …)',\n",
      "       'On average, how much of your time is spent developing software?',\n",
      "       'On average, how much of your time is spent on research?',\n",
      "       'On average, how much of the time you spend developing software is spent on new development/enhancement?',\n",
      "       'On average, how much of the time you spend developing software is devoted to maintenance and support activities?',\n",
      "       'On average, how much time do you spend on management?',\n",
      "       'On average, how much time do you spend on other activities?',\n",
      "       'How many years of software development experience do you have?',\n",
      "       'Do you consider yourself a professional software developer?',\n",
      "       'How many software projects are you currently involved in?',\n",
      "       'How many software developers typically work on your projects?',\n",
      "       'What percentage of these developers are dedicated to the project full time?',\n",
      "       'How are your projects typically tested?  [No formal testing]',\n",
      "       'How are your projects typically tested?  [The developers do their own testing]',\n",
      "       'How are your projects typically tested?  [Dedicated test engineers]',\n",
      "       'How are your projects typically tested?  [User testing]',\n",
      "       'Do your research software projects typically include a project manager?',\n",
      "       'What development methodology does your current project use?',\n",
      "       'What development methodology does your current project use? [Other]',\n",
      "       'Have you ever visited the Research Software Registry at science.canarie.ca?',\n",
      "       'How many software components from science.canarie.ca have you integrated into your projects?',\n",
      "       'What type of organization do you work for?',\n",
      "       'What type of organization do you work for? [Other]',\n",
      "       'What is your current job title?',\n",
      "       'In which application area do you primarily work?',\n",
      "       'In which application area do you primarily work? [Other]',\n",
      "       'What is the nature of your current employment?',\n",
      "       'What is the nature of your current employment? [Other]',\n",
      "       'Do you work within a group that provides software development help or expertise to researchers from across your organization?',\n",
      "       'Is there such a group within your organization?',\n",
      "       'Do you think such a group would have value?',\n",
      "       'Would you be interested in participating in such a group?',\n",
      "       'Have you contributed software to research that has been published in a journal or presented at a conference?',\n",
      "       'In general, when your software contributes to a paper, are you acknowledged in that paper?',\n",
      "       'Are you generally named as the main author of the paper?',\n",
      "       'Are you generally named as a co-author of the paper?',\n",
      "       'Are you generally acknowledged in the main paper?',\n",
      "       'Have you ever presented your software work at a conference or workshop? ',\n",
      "       'Which conference(s)/workshop(s)?',\n",
      "       'When you release code, how often do you use an open source license?',\n",
      "       'List any open repositories (eg. GitHub) to which your software projects have been published.',\n",
      "       'When you release code or data, how often do you assign a Digital Object Identifier (DOI) to it?',\n",
      "       'In your opinion, what are the three most important skills that a Research Software Developer must possess? These skills can be technical and non-technical.',\n",
      "       'What three skills would you like to acquire or improve to help your work as a Research Software Developer? These skills can be technical and non-technical.',\n",
      "       'What are the three tools or services you use most often in your software work?',\n",
      "       'What is your Operating System of choice for development?',\n",
      "       'What is your Operating System of choice for development? [Other]',\n",
      "       'What is your Operating System of choice for deployment?',\n",
      "       'What is your Operating System of choice for deployment? [Other]',\n",
      "       'What programming languages do you use in developing research software? Please list in order, beginning with most frequently used.',\n",
      "       'What platform(s) are your research software projects deployed on? [Compute Canada HPC]',\n",
      "       'What platform(s) are your research software projects deployed on? [University computer centre]',\n",
      "       'What platform(s) are your research software projects deployed on? [Other HPC]',\n",
      "       'What platform(s) are your research software projects deployed on? [Cloud service]',\n",
      "       'What platform(s) are your research software projects deployed on? [Stand-alone server(s)]',\n",
      "       'What platform(s) are your research software projects deployed on? [Laptop/desktop]',\n",
      "       'What platform(s) are your research software projects deployed on? [Mobile]',\n",
      "       'What platform(s) are your research software projects deployed on? [Other]',\n",
      "       'Do any of your current projects make use of a data management or data archiving component?',\n",
      "       'Is it part of your software or an external system? (please specify)',\n",
      "       'Do any of your current projects accommodate the open/public sharing of data?',\n",
      "       'Is the creation of a Digital Object Identifier (DOI) and metadata for individual assets supported?',\n",
      "       'Are you a member of an association of Research Software Developers (e.g UK RSE)?',\n",
      "       'Would you be interested in joining such an organization if one was formed in Canada?',\n",
      "       'What would you hope to get out of such an organization? [Networking]',\n",
      "       'What would you hope to get out of such an organization? [Software collaborations]',\n",
      "       'What would you hope to get out of such an organization? [Research collaborations]',\n",
      "       'What would you hope to get out of such an organization? [Training]',\n",
      "       'What would you hope to get out of such an organization? [Research Software Standards and Interoperability]',\n",
      "       'What would you hope to get out of such an organization? [Job opportunities]',\n",
      "       'What would you hope to get out of such an organization? [Other]',\n",
      "       'How is your current research software work funded? [Employer]',\n",
      "       'How is your current research software work funded? [CANARIE]',\n",
      "       'How is your current research software work funded? [Canadian Foundation for Innovation (CFI)]',\n",
      "       'How is your current research software work funded? [Canadian Institutes of Health Research (CIHR)]',\n",
      "       'How is your current research software work funded? [Genome Canada]',\n",
      "       'How is your current research software work funded? [Natural Sciences and Engineering Research Council of Canada (NSERC)]',\n",
      "       'How is your current research software work funded? [Social Sciences and Humanities Research Council (SSHRC)]',\n",
      "       'How is your current research software work funded? [I don't know]',\n",
      "       'How is your current research software work funded? [Other]',\n",
      "       'Have you developed software that is accessed from multiple institutions?',\n",
      "       'Do any of your current or previous projects make use of the Canadian Access Federation (CAF) Federated Identity Management (FIM) service?',\n",
      "       'List any public identity providers (e.g. Google, Facebook, Live, LinkedIn, Twitter, etc.) used in your current or previous projects.',\n",
      "       'Unnamed: 95'],\n",
      "      dtype='object')\n"
     ]
    }
   ],
   "source": [
    "print(df.columns)"
   ]
  },
  {
   "cell_type": "markdown",
   "metadata": {},
   "source": [
    "## THIS IS  MARKD"
   ]
  }
 ],
 "metadata": {
  "kernelspec": {
   "display_name": "Python 3",
   "language": "python",
   "name": "python3"
  },
  "language_info": {
   "codemirror_mode": {
    "name": "ipython",
    "version": 3
   },
   "file_extension": ".py",
   "mimetype": "text/x-python",
   "name": "python",
   "nbconvert_exporter": "python",
   "pygments_lexer": "ipython3",
   "version": "3.6.0"
  }
 },
 "nbformat": 4,
 "nbformat_minor": 2
}
