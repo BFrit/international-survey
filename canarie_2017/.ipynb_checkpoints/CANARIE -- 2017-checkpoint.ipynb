{
 "cells": [
  {
   "cell_type": "markdown",
   "metadata": {},
   "source": [
    "# CANARIE 2017 -- Analysis of the survey\n",
    "\n",
    "This notebook is the first draft to analyse the results from [CANARIE]()"
   ]
  },
  {
   "cell_type": "code",
   "execution_count": 10,
   "metadata": {
    "collapsed": true
   },
   "outputs": [],
   "source": [
    "# Load libraries\n",
    "import pandas as pd\n",
    "import matplotlib.pyplot as plt\n",
    "%matplotlib inline\n",
    "import csv\n"
   ]
  },
  {
   "cell_type": "code",
   "execution_count": 7,
   "metadata": {
    "collapsed": false
   },
   "outputs": [
    {
     "data": {
      "text/html": [
       "<div>\n",
       "<table border=\"1\" class=\"dataframe\">\n",
       "  <thead>\n",
       "    <tr style=\"text-align: right;\">\n",
       "      <th></th>\n",
       "      <th>Response ID</th>\n",
       "      <th>Date submitted</th>\n",
       "      <th>Last page</th>\n",
       "      <th>Start language</th>\n",
       "      <th>Date started</th>\n",
       "      <th>Date last action</th>\n",
       "      <th>In which country do you work?</th>\n",
       "      <th>In which country do you work? [Other]</th>\n",
       "      <th>Do you write software for research as part of your job?</th>\n",
       "      <th>What is the highest level of education you have attained?</th>\n",
       "      <th>...</th>\n",
       "      <th>How is your current research software work funded? [Canadian Institutes of Health Research (CIHR)]</th>\n",
       "      <th>How is your current research software work funded? [Genome Canada]</th>\n",
       "      <th>How is your current research software work funded? [Natural Sciences and Engineering Research Council of Canada (NSERC)]</th>\n",
       "      <th>How is your current research software work funded? [Social Sciences and Humanities Research Council (SSHRC)]</th>\n",
       "      <th>How is your current research software work funded? [I don't know]</th>\n",
       "      <th>How is your current research software work funded? [Other]</th>\n",
       "      <th>Have you developed software that is accessed from multiple institutions?</th>\n",
       "      <th>Do any of your current or previous projects make use of the Canadian Access Federation (CAF) Federated Identity Management (FIM) service?</th>\n",
       "      <th>List any public identity providers (e.g. Google, Facebook, Live, LinkedIn, Twitter, etc.) used in your current or previous projects.</th>\n",
       "      <th>Unnamed: 95</th>\n",
       "    </tr>\n",
       "  </thead>\n",
       "  <tbody>\n",
       "    <tr>\n",
       "      <th>0</th>\n",
       "      <td>40</td>\n",
       "      <td>2017-02-28 14:21:28</td>\n",
       "      <td>13</td>\n",
       "      <td>en</td>\n",
       "      <td>2017-02-28 14:13:24</td>\n",
       "      <td>2017-02-28 14:21:28</td>\n",
       "      <td>Canada</td>\n",
       "      <td>NaN</td>\n",
       "      <td>No</td>\n",
       "      <td>Doctorate</td>\n",
       "      <td>...</td>\n",
       "      <td>No</td>\n",
       "      <td>No</td>\n",
       "      <td>No</td>\n",
       "      <td>Yes</td>\n",
       "      <td>No</td>\n",
       "      <td>NaN</td>\n",
       "      <td>Yes</td>\n",
       "      <td>I'm not familiar with CAF</td>\n",
       "      <td>NaN</td>\n",
       "      <td>NaN</td>\n",
       "    </tr>\n",
       "    <tr>\n",
       "      <th>1</th>\n",
       "      <td>41</td>\n",
       "      <td>2017-02-28 17:01:45</td>\n",
       "      <td>13</td>\n",
       "      <td>fr</td>\n",
       "      <td>2017-02-28 14:13:56</td>\n",
       "      <td>2017-02-28 17:01:45</td>\n",
       "      <td>Canada</td>\n",
       "      <td>NaN</td>\n",
       "      <td>Yes</td>\n",
       "      <td>Doctorate</td>\n",
       "      <td>...</td>\n",
       "      <td>No</td>\n",
       "      <td>No</td>\n",
       "      <td>Yes</td>\n",
       "      <td>Yes</td>\n",
       "      <td>No</td>\n",
       "      <td>NaN</td>\n",
       "      <td>Yes</td>\n",
       "      <td>No</td>\n",
       "      <td>NaN</td>\n",
       "      <td>NaN</td>\n",
       "    </tr>\n",
       "    <tr>\n",
       "      <th>2</th>\n",
       "      <td>42</td>\n",
       "      <td>2017-02-28 14:29:05</td>\n",
       "      <td>13</td>\n",
       "      <td>en</td>\n",
       "      <td>2017-02-28 14:14:30</td>\n",
       "      <td>2017-02-28 14:29:05</td>\n",
       "      <td>Canada</td>\n",
       "      <td>NaN</td>\n",
       "      <td>Yes</td>\n",
       "      <td>Doctorate</td>\n",
       "      <td>...</td>\n",
       "      <td>No</td>\n",
       "      <td>No</td>\n",
       "      <td>Yes</td>\n",
       "      <td>No</td>\n",
       "      <td>No</td>\n",
       "      <td>NaN</td>\n",
       "      <td>No</td>\n",
       "      <td>I'm not familiar with CAF</td>\n",
       "      <td>NaN</td>\n",
       "      <td>NaN</td>\n",
       "    </tr>\n",
       "    <tr>\n",
       "      <th>3</th>\n",
       "      <td>43</td>\n",
       "      <td>2017-02-28 14:22:04</td>\n",
       "      <td>13</td>\n",
       "      <td>en</td>\n",
       "      <td>2017-02-28 14:14:57</td>\n",
       "      <td>2017-02-28 14:22:04</td>\n",
       "      <td>Canada</td>\n",
       "      <td>NaN</td>\n",
       "      <td>No</td>\n",
       "      <td>Some College</td>\n",
       "      <td>...</td>\n",
       "      <td>No</td>\n",
       "      <td>No</td>\n",
       "      <td>No</td>\n",
       "      <td>No</td>\n",
       "      <td>Yes</td>\n",
       "      <td>NaN</td>\n",
       "      <td>No</td>\n",
       "      <td>No</td>\n",
       "      <td>NaN</td>\n",
       "      <td>NaN</td>\n",
       "    </tr>\n",
       "    <tr>\n",
       "      <th>4</th>\n",
       "      <td>44</td>\n",
       "      <td>2017-02-28 14:26:41</td>\n",
       "      <td>13</td>\n",
       "      <td>fr</td>\n",
       "      <td>2017-02-28 14:16:35</td>\n",
       "      <td>2017-02-28 14:26:41</td>\n",
       "      <td>Canada</td>\n",
       "      <td>NaN</td>\n",
       "      <td>Yes</td>\n",
       "      <td>Masters Degree</td>\n",
       "      <td>...</td>\n",
       "      <td>Yes</td>\n",
       "      <td>Yes</td>\n",
       "      <td>Yes</td>\n",
       "      <td>No</td>\n",
       "      <td>No</td>\n",
       "      <td>NaN</td>\n",
       "      <td>Yes</td>\n",
       "      <td>I'm not familiar with CAF</td>\n",
       "      <td>NaN</td>\n",
       "      <td>NaN</td>\n",
       "    </tr>\n",
       "  </tbody>\n",
       "</table>\n",
       "<p>5 rows × 96 columns</p>\n",
       "</div>"
      ],
      "text/plain": [
       "   Response ID       Date submitted  Last page Start language  \\\n",
       "0           40  2017-02-28 14:21:28         13             en   \n",
       "1           41  2017-02-28 17:01:45         13             fr   \n",
       "2           42  2017-02-28 14:29:05         13             en   \n",
       "3           43  2017-02-28 14:22:04         13             en   \n",
       "4           44  2017-02-28 14:26:41         13             fr   \n",
       "\n",
       "          Date started     Date last action In which country do you work?  \\\n",
       "0  2017-02-28 14:13:24  2017-02-28 14:21:28                        Canada   \n",
       "1  2017-02-28 14:13:56  2017-02-28 17:01:45                        Canada   \n",
       "2  2017-02-28 14:14:30  2017-02-28 14:29:05                        Canada   \n",
       "3  2017-02-28 14:14:57  2017-02-28 14:22:04                        Canada   \n",
       "4  2017-02-28 14:16:35  2017-02-28 14:26:41                        Canada   \n",
       "\n",
       "  In which country do you work? [Other]  \\\n",
       "0                                   NaN   \n",
       "1                                   NaN   \n",
       "2                                   NaN   \n",
       "3                                   NaN   \n",
       "4                                   NaN   \n",
       "\n",
       "  Do you write software for research as part of your job?  \\\n",
       "0                                                 No        \n",
       "1                                                Yes        \n",
       "2                                                Yes        \n",
       "3                                                 No        \n",
       "4                                                Yes        \n",
       "\n",
       "  What is the highest level of education you have attained?     ...       \\\n",
       "0                                          Doctorate            ...        \n",
       "1                                          Doctorate            ...        \n",
       "2                                          Doctorate            ...        \n",
       "3                                       Some College            ...        \n",
       "4                                     Masters Degree            ...        \n",
       "\n",
       "  How is your current research software work funded? [Canadian Institutes of Health Research (CIHR)]  \\\n",
       "0                                                 No                                                   \n",
       "1                                                 No                                                   \n",
       "2                                                 No                                                   \n",
       "3                                                 No                                                   \n",
       "4                                                Yes                                                   \n",
       "\n",
       "  How is your current research software work funded? [Genome Canada]  \\\n",
       "0                                                 No                   \n",
       "1                                                 No                   \n",
       "2                                                 No                   \n",
       "3                                                 No                   \n",
       "4                                                Yes                   \n",
       "\n",
       "  How is your current research software work funded? [Natural Sciences and Engineering Research Council of Canada (NSERC)]  \\\n",
       "0                                                 No                                                                         \n",
       "1                                                Yes                                                                         \n",
       "2                                                Yes                                                                         \n",
       "3                                                 No                                                                         \n",
       "4                                                Yes                                                                         \n",
       "\n",
       "  How is your current research software work funded? [Social Sciences and Humanities Research Council (SSHRC)]  \\\n",
       "0                                                Yes                                                             \n",
       "1                                                Yes                                                             \n",
       "2                                                 No                                                             \n",
       "3                                                 No                                                             \n",
       "4                                                 No                                                             \n",
       "\n",
       "  How is your current research software work funded? [I don't know]  \\\n",
       "0                                                 No                  \n",
       "1                                                 No                  \n",
       "2                                                 No                  \n",
       "3                                                Yes                  \n",
       "4                                                 No                  \n",
       "\n",
       "  How is your current research software work funded? [Other]  \\\n",
       "0                                                NaN           \n",
       "1                                                NaN           \n",
       "2                                                NaN           \n",
       "3                                                NaN           \n",
       "4                                                NaN           \n",
       "\n",
       "  Have you developed software that is accessed from multiple institutions?  \\\n",
       "0                                                Yes                         \n",
       "1                                                Yes                         \n",
       "2                                                 No                         \n",
       "3                                                 No                         \n",
       "4                                                Yes                         \n",
       "\n",
       "  Do any of your current or previous projects make use of the Canadian Access Federation (CAF) Federated Identity Management (FIM) service?  \\\n",
       "0                          I'm not familiar with CAF                                                                                          \n",
       "1                                                 No                                                                                          \n",
       "2                          I'm not familiar with CAF                                                                                          \n",
       "3                                                 No                                                                                          \n",
       "4                          I'm not familiar with CAF                                                                                          \n",
       "\n",
       "  List any public identity providers (e.g. Google, Facebook, Live, LinkedIn, Twitter, etc.) used in your current or previous projects.  \\\n",
       "0                                                NaN                                                                                     \n",
       "1                                                NaN                                                                                     \n",
       "2                                                NaN                                                                                     \n",
       "3                                                NaN                                                                                     \n",
       "4                                                NaN                                                                                     \n",
       "\n",
       "   Unnamed: 95  \n",
       "0          NaN  \n",
       "1          NaN  \n",
       "2          NaN  \n",
       "3          NaN  \n",
       "4          NaN  \n",
       "\n",
       "[5 rows x 96 columns]"
      ]
     },
     "execution_count": 7,
     "metadata": {},
     "output_type": "execute_result"
    }
   ],
   "source": [
    "# Load dataset\n",
    "df = pd.read_csv('./dataset/2017 Cdn Research Software Developer Survey - Public data.csv')\n",
    "# Number of row == number of participants\n",
    "len(df.index)"
   ]
  },
  {
   "cell_type": "markdown",
   "metadata": {},
   "source": [
    "## Country\n",
    "A question asked the participants in which country they were currently working and specify when it was not Canada.\n"
   ]
  },
  {
   "cell_type": "code",
   "execution_count": 25,
   "metadata": {
    "collapsed": false
   },
   "outputs": [
    {
     "data": {
      "text/html": [
       "<div>\n",
       "<table border=\"1\" class=\"dataframe\">\n",
       "  <thead>\n",
       "    <tr style=\"text-align: right;\">\n",
       "      <th>col_0</th>\n",
       "      <th>Countries</th>\n",
       "    </tr>\n",
       "    <tr>\n",
       "      <th>In which country do you work?</th>\n",
       "      <th></th>\n",
       "    </tr>\n",
       "  </thead>\n",
       "  <tbody>\n",
       "    <tr>\n",
       "      <th>Canada</th>\n",
       "      <td>110</td>\n",
       "    </tr>\n",
       "    <tr>\n",
       "      <th>Other</th>\n",
       "      <td>4</td>\n",
       "    </tr>\n",
       "  </tbody>\n",
       "</table>\n",
       "</div>"
      ],
      "text/plain": [
       "col_0                          Countries\n",
       "In which country do you work?           \n",
       "Canada                               110\n",
       "Other                                  4"
      ]
     },
     "execution_count": 25,
     "metadata": {},
     "output_type": "execute_result"
    }
   ],
   "source": [
    "pd.crosstab(df['In which country do you work?'], columns='Countries')"
   ]
  },
  {
   "cell_type": "markdown",
   "metadata": {},
   "source": [
    "There is only 4 others. Which are only one from Japan, 2 from USA and one from UK.  "
   ]
  },
  {
   "cell_type": "code",
   "execution_count": 28,
   "metadata": {
    "collapsed": false
   },
   "outputs": [
    {
     "data": {
      "text/html": [
       "<div>\n",
       "<table border=\"1\" class=\"dataframe\">\n",
       "  <thead>\n",
       "    <tr style=\"text-align: right;\">\n",
       "      <th>col_0</th>\n",
       "      <th>Other countries</th>\n",
       "    </tr>\n",
       "    <tr>\n",
       "      <th>In which country do you work? [Other]</th>\n",
       "      <th></th>\n",
       "    </tr>\n",
       "  </thead>\n",
       "  <tbody>\n",
       "    <tr>\n",
       "      <th>Japan</th>\n",
       "      <td>1</td>\n",
       "    </tr>\n",
       "    <tr>\n",
       "      <th>USA</th>\n",
       "      <td>2</td>\n",
       "    </tr>\n",
       "    <tr>\n",
       "      <th>uk</th>\n",
       "      <td>1</td>\n",
       "    </tr>\n",
       "  </tbody>\n",
       "</table>\n",
       "</div>"
      ],
      "text/plain": [
       "col_0                                  Other countries\n",
       "In which country do you work? [Other]                 \n",
       "Japan                                                1\n",
       "USA                                                  2\n",
       "uk                                                   1"
      ]
     },
     "execution_count": 28,
     "metadata": {},
     "output_type": "execute_result"
    }
   ],
   "source": [
    "pd.crosstab(df['In which country do you work? [Other]'], columns='Other countries')\n"
   ]
  },
  {
   "cell_type": "markdown",
   "metadata": {},
   "source": [
    "As this answer are not useful for CANARIE, because these people are not working in Canada, they are removed from the dataset."
   ]
  },
  {
   "cell_type": "code",
   "execution_count": 43,
   "metadata": {
    "collapsed": false
   },
   "outputs": [
    {
     "data": {
      "text/plain": [
       "110"
      ]
     },
     "execution_count": 43,
     "metadata": {},
     "output_type": "execute_result"
    }
   ],
   "source": [
    "df = df.loc[df['In which country do you work?'] != 'Other']\n",
    "# Getting the number of row from the reduced dataframe\n",
    "len(df.index)"
   ]
  },
  {
   "cell_type": "markdown",
   "metadata": {},
   "source": [
    "## Languages\n",
    "\n",
    "The survey was in French and in English. The option choose by the participant was collected. It is possible then to see the proportion of participants that answered the survey in French or in English"
   ]
  },
  {
   "cell_type": "code",
   "execution_count": 41,
   "metadata": {
    "collapsed": false
   },
   "outputs": [
    {
     "data": {
      "text/html": [
       "<div>\n",
       "<table border=\"1\" class=\"dataframe\">\n",
       "  <thead>\n",
       "    <tr style=\"text-align: right;\">\n",
       "      <th>col_0</th>\n",
       "      <th>Language</th>\n",
       "    </tr>\n",
       "    <tr>\n",
       "      <th>Start language</th>\n",
       "      <th></th>\n",
       "    </tr>\n",
       "  </thead>\n",
       "  <tbody>\n",
       "    <tr>\n",
       "      <th>en</th>\n",
       "      <td>96</td>\n",
       "    </tr>\n",
       "    <tr>\n",
       "      <th>fr</th>\n",
       "      <td>14</td>\n",
       "    </tr>\n",
       "  </tbody>\n",
       "</table>\n",
       "</div>"
      ],
      "text/plain": [
       "col_0           Language\n",
       "Start language          \n",
       "en                    96\n",
       "fr                    14"
      ]
     },
     "execution_count": 41,
     "metadata": {},
     "output_type": "execute_result"
    }
   ],
   "source": [
    "pd.crosstab(df['Start language'], columns='Language')\n"
   ]
  },
  {
   "cell_type": "code",
   "execution_count": 42,
   "metadata": {
    "collapsed": false
   },
   "outputs": [
    {
     "data": {
      "text/plain": [
       "<matplotlib.axes._subplots.AxesSubplot at 0x7fa5542f9b38>"
      ]
     },
     "execution_count": 42,
     "metadata": {},
     "output_type": "execute_result"
    },
    {
     "data": {
      "image/png": "[encoded data removed]",
      "text/plain": [
       "<matplotlib.figure.Figure at 0x7fa5544249e8>"
      ]
     },
     "metadata": {},
     "output_type": "display_data"
    }
   ],
   "source": [
    "df['Start language'].value_counts().plot(kind='bar')\n"
   ]
  },
  {
   "cell_type": "markdown",
   "metadata": {},
   "source": [
    "## Education level\n",
    "\n",
    "The next question was about the education level. The different answers where:\n"
   ]
  }
 ],
 "metadata": {
  "kernelspec": {
   "display_name": "Python 3",
   "language": "python",
   "name": "python3"
  },
  "language_info": {
   "codemirror_mode": {
    "name": "ipython",
    "version": 3
   },
   "file_extension": ".py",
   "mimetype": "text/x-python",
   "name": "python",
   "nbconvert_exporter": "python",
   "pygments_lexer": "ipython3",
   "version": "3.6.0"
  }
 },
 "nbformat": 4,
 "nbformat_minor": 2
}
